{
 "cells": [
  {
   "cell_type": "code",
   "execution_count": 17,
   "metadata": {},
   "outputs": [],
   "source": [
    "def registrar_equipo(nombre, fecha):\n",
    "    archivo = open(f\"../database/equipo\", \"a\")\n",
    "    archivo.write(f\"{nombre};{fecha};\\n\")\n",
    "    archivo.close()\n",
    "    \n",
    "def registrar_persona(nombre, edad):\n",
    "    archivo = open(f\"../database/persona\", \"a\")\n",
    "    archivo.write(f\"{nombre};{edad};\\n\")\n",
    "    archivo.close()"
   ]
  },
  {
   "cell_type": "code",
   "execution_count": 18,
   "metadata": {},
   "outputs": [],
   "source": [
    "registrar_equipo(\"Camilla\", \"31-08-2022\")\n",
    "registrar_equipo(\"Silla\", \"31-08-2022\")\n",
    "registrar_equipo(\"Mesa\", \"31-08-2022\")\n",
    "registrar_equipo(\"Desfribilador\", \"31-08-2022\")\n",
    "\n",
    "registrar_persona(\"Daniel\", 28)\n",
    "registrar_persona(\"Alejandro\", 30)\n",
    "registrar_persona(\"Diego\", 29)"
   ]
  },
  {
   "cell_type": "code",
   "execution_count": 21,
   "metadata": {},
   "outputs": [
    {
     "name": "stdout",
     "output_type": "stream",
     "text": [
      "Camilla;31-08-2022;\n",
      "Silla;31-08-2022;\n",
      "Mesa;31-08-2022;\n",
      "Desfribilador;31-08-2022;\n",
      "Camilla;31-08-2022;\n",
      "Silla;31-08-2022;\n",
      "Mesa;31-08-2022;\n",
      "Desfribilador;31-08-2022;\n",
      "Camilla;31-08-2022;\n",
      "Silla;31-08-2022;\n",
      "Mesa;31-08-2022;\n",
      "Desfribilador;31-08-2022;\n",
      "\n"
     ]
    }
   ],
   "source": [
    "def imprimir_equipo():\n",
    "    archivo = open(f\"../database/equipo\", \"r\")\n",
    "    print(archivo.read())\n",
    "\n",
    "imprimir_equipo()"
   ]
  }
 ],
 "metadata": {
  "kernelspec": {
   "display_name": "Python 3.9.7 ('base')",
   "language": "python",
   "name": "python3"
  },
  "language_info": {
   "codemirror_mode": {
    "name": "ipython",
    "version": 3
   },
   "file_extension": ".py",
   "mimetype": "text/x-python",
   "name": "python",
   "nbconvert_exporter": "python",
   "pygments_lexer": "ipython3",
   "version": "3.9.7"
  },
  "orig_nbformat": 4,
  "vscode": {
   "interpreter": {
    "hash": "ee25d7d6516bf8b36f490cf1d93c10613855d66aa0604eb877c22dea8d7b84fa"
   }
  }
 },
 "nbformat": 4,
 "nbformat_minor": 2
}
